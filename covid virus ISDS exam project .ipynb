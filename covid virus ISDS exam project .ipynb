{
 "cells": [
  {
   "cell_type": "markdown",
   "metadata": {},
   "source": [
    "### Analysis of factors affecting the incidence of Covid-19 in China\n",
    "#### The primary goals of this project are \n",
    "1. to explore incidence of covid-19 in different areas in China and its relationship with several factors. \n",
    "2. to predict futurn incidence and compare.\n",
    "\n",
    "\n",
    "#### Factors: \n",
    "1. per capita disposable income \n",
    "2. male to female ratio \n",
    "3. population flow rate \n",
    "4. urbanization level  \n",
    "5. per capita medical resource occupancy \n",
    "\n",
    "\n",
    "#### Work process:\n",
    "1. web scraping\n",
    "2. data cleaning\n",
    "3. data parsing and visualization\n",
    "4. machine learning\n",
    "5. report writing"
   ]
  },
  {
   "cell_type": "markdown",
   "metadata": {},
   "source": [
    "### 1. Web scraping\n",
    "#### Data recourses:\n",
    "1. 腾讯疫情网站\n",
    "https://news.qq.com/zt2020/page/feiyan.htm#/?nojump=1\n",
    "2. \n",
    "3. \n"
   ]
  },
  {
   "cell_type": "code",
   "execution_count": 5,
   "metadata": {
    "scrolled": false
   },
   "outputs": [
    {
     "name": "stdout",
     "output_type": "stream",
     "text": [
      "<class 'dict'>\n",
      "dict_keys(['lastUpdateTime', 'chinaTotal', 'chinaAdd', 'isShowAdd', 'showAddSwitch', 'areaTree'])\n"
     ]
    }
   ],
   "source": [
    "#爬取腾讯的疫情数据，就不用一个一个卫健委的网址去爬取了\n",
    "\n",
    "import requests\n",
    "import json\n",
    "url = \"https://view.inews.qq.com/g2/getOnsInfo?name=disease_h5\"\n",
    "res = requests.get(url)\n",
    "\n",
    "\n",
    "d = json.loads(res.text)  #json.dumps(): 对数据进行编码。 json.loads(): 对数据进行解码。\n",
    "#d 是json文件，是字符串，要先解码为字典，再用print\n",
    "\n",
    "data_all = json.loads(d[\"data\"])\n",
    "print(type(data_all))\n",
    "\n",
    "print(data_all.keys())\n"
   ]
  },
  {
   "cell_type": "code",
   "execution_count": 22,
   "metadata": {},
   "outputs": [
    {
     "ename": "KeyError",
     "evalue": "'chinaDayList'",
     "output_type": "error",
     "traceback": [
      "\u001b[0;31m---------------------------------------------------------------------------\u001b[0m",
      "\u001b[0;31mKeyError\u001b[0m                                  Traceback (most recent call last)",
      "\u001b[0;32m<ipython-input-22-ea245fcacc65>\u001b[0m in \u001b[0;36m<module>\u001b[0;34m\u001b[0m\n\u001b[0;32m----> 1\u001b[0;31m \u001b[0mprint\u001b[0m\u001b[0;34m(\u001b[0m\u001b[0mdata_all\u001b[0m\u001b[0;34m[\u001b[0m\u001b[0;34m\"chinaDayList\"\u001b[0m\u001b[0;34m]\u001b[0m\u001b[0;34m)\u001b[0m\u001b[0;34m\u001b[0m\u001b[0;34m\u001b[0m\u001b[0m\n\u001b[0m",
      "\u001b[0;31mKeyError\u001b[0m: 'chinaDayList'"
     ]
    }
   ],
   "source": [
    "print(data_all[\"lastUpdateTime\"])#时间戳\n",
    "print(data_all[\"chinaTotal\"])#当前汇总数据\n",
    "print(data_all[\"chinaAdd\"])\n",
    "print(data_all[\"isShowAdd\"])\n",
    "print(data_all[\"showAddSwitch\"])\n",
    "print(data_all[\"areaTree\"])"
   ]
  },
  {
   "cell_type": "markdown",
   "metadata": {},
   "source": [
    "### 2. data cleaning\n",
    "#### To filter useful data from the first step's outcome.\n",
    "#### by using regulation  (re)"
   ]
  },
  {
   "cell_type": "code",
   "execution_count": null,
   "metadata": {},
   "outputs": [],
   "source": [
    "#还没写，下面是学习的时候打下来的代码\n",
    "'''url_new = \"http://esjkw.sc.gov.cn + a.attrs[\"href\"]\"\n",
    "res = requests.get(url_new)\n",
    "res.encoding = \"utf-8\"\n",
    "soup = BeautifulSoup(res.text)\n",
    "context = soup.find(\"p\")\n",
    "print(content)\n",
    "\n",
    "#use re\n",
    "text = context.text\n",
    "print(text)\n",
    "patten = \"新增确证病例(\\d+)例.*?出院病例(\\d+)例.*?疑似病例(\\d+)例.*?死亡病例(\\d+)例\"\n",
    "res = re.search(patten,text)\n",
    "print(res)\n",
    "\n",
    "# others\n",
    "print(res.group()) #打印上述全部数字\n",
    "print(res.group(0)) #打印pattern\n",
    "print(res.group(1),res.group(2),res.group(3),res.group(4)) # 打印独立的数字'''\n"
   ]
  }
 ],
 "metadata": {
  "kernelspec": {
   "display_name": "Python 3",
   "language": "python",
   "name": "python3"
  },
  "language_info": {
   "codemirror_mode": {
    "name": "ipython",
    "version": 3
   },
   "file_extension": ".py",
   "mimetype": "text/x-python",
   "name": "python",
   "nbconvert_exporter": "python",
   "pygments_lexer": "ipython3",
   "version": "3.7.6"
  }
 },
 "nbformat": 4,
 "nbformat_minor": 4
}
